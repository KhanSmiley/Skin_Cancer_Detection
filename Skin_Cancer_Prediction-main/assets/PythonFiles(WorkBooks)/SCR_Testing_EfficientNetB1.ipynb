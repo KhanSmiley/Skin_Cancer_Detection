{
 "cells": [
  {
   "cell_type": "markdown",
   "id": "8da64942",
   "metadata": {},
   "source": [
    "## Testing EfficientNet B1 \n",
    "\n",
    "\n",
    "Sameer Ali Khan\n",
    "Chandana MN\n",
    "Bandi Rupa Sravya"
   ]
  },
  {
   "cell_type": "code",
   "execution_count": 1,
   "id": "98794b96",
   "metadata": {},
   "outputs": [
    {
     "name": "stderr",
     "output_type": "stream",
     "text": [
      "WARNING:absl:Compiled the loaded model, but the compiled metrics have yet to be built. `model.compile_metrics` will be empty until you train or evaluate the model.\n"
     ]
    },
    {
     "name": "stdout",
     "output_type": "stream",
     "text": [
      "Model Loaded Successfully\n"
     ]
    }
   ],
   "source": [
    "import numpy as np\n",
    "import tensorflow as tf\n",
    "\n",
    "# Load the pre-trained model\n",
    "model = tf.keras.models.load_model(\"C:/Users/Relanto/Downloads/Final Year Project/scr_skin_cnn_efficientNetB1.h5\")\n",
    "print(\"Model Loaded Successfully\")"
   ]
  },
  {
   "cell_type": "code",
   "execution_count": 2,
   "id": "1e07b5c2",
   "metadata": {},
   "outputs": [],
   "source": [
    "# Class labels\n",
    "class_labels = [\"nv\", \"mel\", \"vasc\", \"df\", \"bkl\", \"bcc\", \"akiec\"]"
   ]
  },
  {
   "cell_type": "code",
   "execution_count": 3,
   "id": "4bb4b06e",
   "metadata": {},
   "outputs": [],
   "source": [
    "# Assuming you have a new image for prediction\n",
    "new_image_path = r\"C:\\Users\\Relanto\\Downloads\\Final Year Project\\ISIC_0029300.jpg\"\n",
    "\n",
    "# Load and preprocess the new image\n",
    "new_image = tf.keras.preprocessing.image.load_img(new_image_path, target_size=(224, 224))\n",
    "new_image = tf.keras.preprocessing.image.img_to_array(new_image)\n",
    "new_image = tf.keras.applications.efficientnet.preprocess_input(new_image)\n",
    "new_image = np.expand_dims(new_image, axis=0)\n"
   ]
  },
  {
   "cell_type": "code",
   "execution_count": 4,
   "id": "1283cc96",
   "metadata": {},
   "outputs": [
    {
     "name": "stdout",
     "output_type": "stream",
     "text": [
      "\u001b[1m1/1\u001b[0m \u001b[32m━━━━━━━━━━━━━━━━━━━━\u001b[0m\u001b[37m\u001b[0m \u001b[1m8s\u001b[0m 8s/step\n",
      "Predicted class: vasc\n"
     ]
    }
   ],
   "source": [
    "# Make prediction\n",
    "predictions = model.predict(new_image)\n",
    "\n",
    "# Get the predicted class label\n",
    "predicted_class_index = np.argmax(predictions)\n",
    "predicted_class_label = class_labels[predicted_class_index]\n",
    "\n",
    "print(\"Predicted class:\", predicted_class_label)"
   ]
  },
  {
   "cell_type": "code",
   "execution_count": null,
   "id": "c9b1d493",
   "metadata": {},
   "outputs": [],
   "source": []
  }
 ],
 "metadata": {
  "kernelspec": {
   "display_name": "Python 3 (ipykernel)",
   "language": "python",
   "name": "python3"
  },
  "language_info": {
   "codemirror_mode": {
    "name": "ipython",
    "version": 3
   },
   "file_extension": ".py",
   "mimetype": "text/x-python",
   "name": "python",
   "nbconvert_exporter": "python",
   "pygments_lexer": "ipython3",
   "version": "3.11.5"
  }
 },
 "nbformat": 4,
 "nbformat_minor": 5
}
